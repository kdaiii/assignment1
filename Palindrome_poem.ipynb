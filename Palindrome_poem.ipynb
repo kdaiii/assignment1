{
 "cells": [
  {
   "cell_type": "code",
   "execution_count": 1,
   "metadata": {},
   "outputs": [],
   "source": [
    "import random"
   ]
  },
  {
   "cell_type": "code",
   "execution_count": 2,
   "metadata": {},
   "outputs": [],
   "source": [
    "verse1 = [\n",
    "    'A man',\n",
    "    'A goat',\n",
    "    'A cat',\n",
    "    'A tree',\n",
    "    'A lawnmower',\n",
    "    'A shoe',\n",
    "    'A rock',\n",
    "    'A mountain',\n",
    "    'A crash test dummy',\n",
    "    'A bed'\n",
    "]"
   ]
  },
  {
   "cell_type": "code",
   "execution_count": 3,
   "metadata": {},
   "outputs": [
    {
     "name": "stdout",
     "output_type": "stream",
     "text": [
      "A mountain\n"
     ]
    }
   ],
   "source": [
    "print(random.choice(verse1))"
   ]
  },
  {
   "cell_type": "code",
   "execution_count": 4,
   "metadata": {},
   "outputs": [
    {
     "name": "stdout",
     "output_type": "stream",
     "text": [
      "A tree\n"
     ]
    }
   ],
   "source": [
    "print(random.choice(verse1))"
   ]
  },
  {
   "cell_type": "code",
   "execution_count": 5,
   "metadata": {},
   "outputs": [],
   "source": [
    "verse2 = [\n",
    "    'soaring among the stars',\n",
    "    'hidden among the sands',\n",
    "    'in the darkness of the night',\n",
    "    'perched atop the canopy of the jungle',\n",
    "    'engulfed in blazing flames'\n",
    "]"
   ]
  },
  {
   "cell_type": "code",
   "execution_count": 6,
   "metadata": {},
   "outputs": [
    {
     "name": "stdout",
     "output_type": "stream",
     "text": [
      "A cat\n",
      "in the darkness of the night\n"
     ]
    }
   ],
   "source": [
    "print(random.choice(verse1))\n",
    "print(random.choice(verse2))"
   ]
  },
  {
   "cell_type": "code",
   "execution_count": 7,
   "metadata": {},
   "outputs": [],
   "source": [
    "verse3 = [\n",
    "    'pondering the meaning of life',\n",
    "    'questioning the validity of past choices',\n",
    "    'dreaming of new settings',\n",
    "    'wishing for a hand to hold',\n",
    "    'burdened by a midlife crisis'\n",
    "]"
   ]
  },
  {
   "cell_type": "code",
   "execution_count": 8,
   "metadata": {},
   "outputs": [
    {
     "name": "stdout",
     "output_type": "stream",
     "text": [
      "A man\n",
      "engulfed in blazing flames\n",
      "pondering the meaning of life\n"
     ]
    }
   ],
   "source": [
    "print(random.choice(verse1))\n",
    "print(random.choice(verse2))\n",
    "print(random.choice(verse3))"
   ]
  },
  {
   "cell_type": "code",
   "execution_count": 9,
   "metadata": {},
   "outputs": [],
   "source": [
    "center = [\n",
    "    '----SOUL----',\n",
    "    '----GROWTH----',\n",
    "    '----FANTASY----',\n",
    "    '----DAYDREAM----',\n",
    "    '----ILLUSION----'\n",
    "]"
   ]
  },
  {
   "cell_type": "code",
   "execution_count": 10,
   "metadata": {
    "scrolled": true
   },
   "outputs": [
    {
     "name": "stdout",
     "output_type": "stream",
     "text": [
      "A rock\n",
      "engulfed in blazing flames\n",
      "wishing for a hand to hold\n",
      "----DAYDREAM----\n",
      "burdened by a midlife crisis\n",
      "soaring among the stars\n",
      "A cat\n"
     ]
    }
   ],
   "source": [
    "print(random.choice(verse1))\n",
    "print(random.choice(verse2))\n",
    "print(random.choice(verse3))\n",
    "print(random.choice(center))\n",
    "print(random.choice(verse3))\n",
    "print(random.choice(verse2))\n",
    "print(random.choice(verse1))"
   ]
  },
  {
   "cell_type": "code",
   "execution_count": 11,
   "metadata": {},
   "outputs": [],
   "source": [
    "def palindrome_poem():\n",
    "    randoverse1 = random.choice(verse1)\n",
    "    randoverse2 = random.choice(verse2)\n",
    "    randoverse3 = random.choice(verse3)\n",
    "    \n",
    "    print(randoverse1)\n",
    "    print(randoverse2)\n",
    "    print(randoverse3)\n",
    "    print(random.choice(center))\n",
    "    print(randoverse3)\n",
    "    print(randoverse2)\n",
    "    print(randoverse1)"
   ]
  },
  {
   "cell_type": "code",
   "execution_count": 12,
   "metadata": {},
   "outputs": [
    {
     "name": "stdout",
     "output_type": "stream",
     "text": [
      "A lawnmower\n",
      "in the darkness of the night\n",
      "dreaming of new settings\n",
      "----GROWTH----\n",
      "A lawnmower\n",
      "in the darkness of the night\n",
      "dreaming of new settings\n"
     ]
    }
   ],
   "source": [
    "palindrome_poem()"
   ]
  },
  {
   "cell_type": "code",
   "execution_count": 13,
   "metadata": {},
   "outputs": [
    {
     "name": "stdout",
     "output_type": "stream",
     "text": [
      "A goat\n",
      "in the darkness of the night\n",
      "wishing for a hand to hold\n",
      "----FANTASY----\n",
      "A goat\n",
      "in the darkness of the night\n",
      "wishing for a hand to hold\n"
     ]
    }
   ],
   "source": [
    "palindrome_poem()"
   ]
  },
  {
   "cell_type": "code",
   "execution_count": 14,
   "metadata": {},
   "outputs": [
    {
     "name": "stdout",
     "output_type": "stream",
     "text": [
      "A goat\n",
      "in the darkness of the night\n",
      "questioning the validity of past choices\n",
      "----GROWTH----\n",
      "A goat\n",
      "in the darkness of the night\n",
      "questioning the validity of past choices\n"
     ]
    }
   ],
   "source": [
    "palindrome_poem()"
   ]
  },
  {
   "cell_type": "code",
   "execution_count": 15,
   "metadata": {},
   "outputs": [],
   "source": [
    "def palindrome_poem():\n",
    "    randoverse1 = random.choice(verse1)\n",
    "    randoverse2 = random.choice(verse2)\n",
    "    randoverse3 = random.choice(verse3)\n",
    "    \n",
    "    print(randoverse1)\n",
    "    print(randoverse2)\n",
    "    print(randoverse3)\n",
    "    print(random.choice(center))\n",
    "    print(randoverse3)\n",
    "    print(randoverse2)\n",
    "    print(randoverse1)"
   ]
  },
  {
   "cell_type": "code",
   "execution_count": 16,
   "metadata": {},
   "outputs": [
    {
     "name": "stdout",
     "output_type": "stream",
     "text": [
      "A bed\n",
      "soaring among the stars\n",
      "pondering the meaning of life\n",
      "----SOUL----\n",
      "pondering the meaning of life\n",
      "soaring among the stars\n",
      "A bed\n"
     ]
    }
   ],
   "source": [
    "palindrome_poem()"
   ]
  },
  {
   "cell_type": "code",
   "execution_count": 17,
   "metadata": {},
   "outputs": [
    {
     "name": "stdout",
     "output_type": "stream",
     "text": [
      "A goat\n",
      "perched atop the canopy of the jungle\n",
      "dreaming of new settings\n",
      "----ILLUSION----\n",
      "dreaming of new settings\n",
      "perched atop the canopy of the jungle\n",
      "A goat\n"
     ]
    }
   ],
   "source": [
    "palindrome_poem()"
   ]
  },
  {
   "cell_type": "code",
   "execution_count": 18,
   "metadata": {},
   "outputs": [
    {
     "name": "stdout",
     "output_type": "stream",
     "text": [
      "A rock\n",
      "in the darkness of the night\n",
      "pondering the meaning of life\n",
      "----DAYDREAM----\n",
      "pondering the meaning of life\n",
      "in the darkness of the night\n",
      "A rock\n"
     ]
    }
   ],
   "source": [
    "palindrome_poem()"
   ]
  },
  {
   "cell_type": "code",
   "execution_count": null,
   "metadata": {},
   "outputs": [],
   "source": []
  }
 ],
 "metadata": {
  "kernelspec": {
   "display_name": "Python 3",
   "language": "python",
   "name": "python3"
  },
  "language_info": {
   "codemirror_mode": {
    "name": "ipython",
    "version": 3
   },
   "file_extension": ".py",
   "mimetype": "text/x-python",
   "name": "python",
   "nbconvert_exporter": "python",
   "pygments_lexer": "ipython3",
   "version": "3.8.3"
  }
 },
 "nbformat": 4,
 "nbformat_minor": 4
}
