{
 "cells": [
  {
   "cell_type": "markdown",
   "metadata": {},
   "source": [
    "After searching the web for the various types of poems I could create, I came across the Palindrome poem, which hooked my interest. Palindrome poems are defined by their mirror-like structure, where the entire poem can be read the same forward and backward. \n",
    "\n",
    "To start off, I imported random, as I would need to be able to randomly select the phrases or words from my lists."
   ]
  },
  {
   "cell_type": "code",
   "execution_count": null,
   "metadata": {},
   "outputs": [],
   "source": [
    "import random"
   ]
  },
  {
   "cell_type": "markdown",
   "metadata": {},
   "source": [
    "Secondly, I wanted to have the first verse consist of a few basic nouns. "
   ]
  },
  {
   "cell_type": "code",
   "execution_count": 2,
   "metadata": {},
   "outputs": [],
   "source": [
    "verse1 = [\n",
    "    'A man',\n",
    "    'A goat',\n",
    "    'A cat',\n",
    "    'A tree',\n",
    "    'A lawnmower',\n",
    "    'A shoe',\n",
    "    'A rock',\n",
    "    'A mountain',\n",
    "    'A crash test dummy',\n",
    "    'A bed'\n",
    "]"
   ]
  },
  {
   "cell_type": "markdown",
   "metadata": {},
   "source": [
    "Time to test out my first verse by randomly selecting a choice from my list."
   ]
  },
  {
   "cell_type": "code",
   "execution_count": 3,
   "metadata": {},
   "outputs": [
    {
     "name": "stdout",
     "output_type": "stream",
     "text": [
      "A mountain\n"
     ]
    }
   ],
   "source": [
    "print(random.choice(verse1))"
   ]
  },
  {
   "cell_type": "code",
   "execution_count": 4,
   "metadata": {},
   "outputs": [
    {
     "name": "stdout",
     "output_type": "stream",
     "text": [
      "A tree\n"
     ]
    }
   ],
   "source": [
    "print(random.choice(verse1))"
   ]
  },
  {
   "cell_type": "markdown",
   "metadata": {},
   "source": [
    "After testing the first verse, I moved on to create my second verse. I made sure to utilize passive verbs, as some of my nouns were inaminate objects, so active verbs wouldn't really make sense. I also needed the poem to make sense when read forward and backwards, so passive verbs would really help in that regard. I wanted to add a dreamlike feel to the poem, so I included surreal scenes such as 'soaring among the stars' or 'engulfed in blazing flames'. "
   ]
  },
  {
   "cell_type": "code",
   "execution_count": 5,
   "metadata": {},
   "outputs": [],
   "source": [
    "verse2 = [\n",
    "    'soaring among the stars',\n",
    "    'hidden among the sands',\n",
    "    'in the darkness of the night',\n",
    "    'perched atop the canopy of the jungle',\n",
    "    'engulfed in blazing flames'\n",
    "]"
   ]
  },
  {
   "cell_type": "markdown",
   "metadata": {},
   "source": [
    "Time to test the second verse printed alongside the first verse."
   ]
  },
  {
   "cell_type": "code",
   "execution_count": 6,
   "metadata": {},
   "outputs": [
    {
     "name": "stdout",
     "output_type": "stream",
     "text": [
      "A cat\n",
      "in the darkness of the night\n"
     ]
    }
   ],
   "source": [
    "print(random.choice(verse1))\n",
    "print(random.choice(verse2))"
   ]
  },
  {
   "cell_type": "markdown",
   "metadata": {},
   "source": [
    "After making sure the first two verses printed correctly and made sense both grammatically and story-wise, I began with my third verse. In the third verse, I could now include active verbs to invoke an almost comedical/surreal sense, especially if the first verse consisted of an object like a bed. If both the second verse and third verse consisted of active verbs, it would seem a bit over the top, so I left the active verb usage for the third verse instead. "
   ]
  },
  {
   "cell_type": "code",
   "execution_count": 7,
   "metadata": {},
   "outputs": [],
   "source": [
    "verse3 = [\n",
    "    'pondering the meaning of life',\n",
    "    'questioning the validity of past choices',\n",
    "    'dreaming of new settings',\n",
    "    'wishing for a hand to hold',\n",
    "    'burdened by a midlife crisis'\n",
    "]"
   ]
  },
  {
   "cell_type": "markdown",
   "metadata": {},
   "source": [
    "Testing the third verse printed alongside the other two verses."
   ]
  },
  {
   "cell_type": "code",
   "execution_count": 8,
   "metadata": {},
   "outputs": [
    {
     "name": "stdout",
     "output_type": "stream",
     "text": [
      "A man\n",
      "engulfed in blazing flames\n",
      "pondering the meaning of life\n"
     ]
    }
   ],
   "source": [
    "print(random.choice(verse1))\n",
    "print(random.choice(verse2))\n",
    "print(random.choice(verse3))"
   ]
  },
  {
   "cell_type": "markdown",
   "metadata": {},
   "source": [
    "All three verses looked good to me so far, so I began making a short list for my 'center'. Of all the palindrome poems I read, I noticed that they almost always included a single word at the center that encapsulates the poem's general theme or meaning. The center word was also the point of reflection between the two parts of the palindrome poem, so I thought it would be nice to add some hyphens to denote that separation. \n",
    "\n",
    "The words I chose for my 'center' were mostly along the lines of 'dream' or 'surrealism'."
   ]
  },
  {
   "cell_type": "code",
   "execution_count": 9,
   "metadata": {},
   "outputs": [],
   "source": [
    "center = [\n",
    "    '----SOUL----',\n",
    "    '----GROWTH----',\n",
    "    '----FANTASY----',\n",
    "    '----DAYDREAM----',\n",
    "    '----ILLUSION----'\n",
    "]"
   ]
  },
  {
   "cell_type": "markdown",
   "metadata": {},
   "source": [
    "After finishing up the center list, I began printing the entire poem out."
   ]
  },
  {
   "cell_type": "code",
   "execution_count": 10,
   "metadata": {
    "scrolled": true
   },
   "outputs": [
    {
     "name": "stdout",
     "output_type": "stream",
     "text": [
      "A rock\n",
      "engulfed in blazing flames\n",
      "wishing for a hand to hold\n",
      "----DAYDREAM----\n",
      "burdened by a midlife crisis\n",
      "soaring among the stars\n",
      "A cat\n"
     ]
    }
   ],
   "source": [
    "print(random.choice(verse1))\n",
    "print(random.choice(verse2))\n",
    "print(random.choice(verse3))\n",
    "print(random.choice(center))\n",
    "print(random.choice(verse3))\n",
    "print(random.choice(verse2))\n",
    "print(random.choice(verse1))"
   ]
  },
  {
   "cell_type": "markdown",
   "metadata": {},
   "source": [
    "The format looked great, so now all I needed to do was to reverse the second half of the poem so it reads backwards, and also make sure the first three randomized verses are stored in variables so that they could be printed out in the second half of the poem. I created a function called palindrome_poem, which stores the first three verse choices into respective variables, and then printed those variables in the palindrome format."
   ]
  },
  {
   "cell_type": "code",
   "execution_count": 11,
   "metadata": {},
   "outputs": [],
   "source": [
    "def palindrome_poem():\n",
    "    randoverse1 = random.choice(verse1)\n",
    "    randoverse2 = random.choice(verse2)\n",
    "    randoverse3 = random.choice(verse3)\n",
    "    \n",
    "    print(randoverse1)\n",
    "    print(randoverse2)\n",
    "    print(randoverse3)\n",
    "    print(random.choice(center))\n",
    "    print(randoverse3)\n",
    "    print(randoverse2)\n",
    "    print(randoverse1)"
   ]
  },
  {
   "cell_type": "markdown",
   "metadata": {},
   "source": [
    "Testing out the palindrome_poem function."
   ]
  },
  {
   "cell_type": "code",
   "execution_count": 12,
   "metadata": {},
   "outputs": [
    {
     "name": "stdout",
     "output_type": "stream",
     "text": [
      "A lawnmower\n",
      "in the darkness of the night\n",
      "dreaming of new settings\n",
      "----GROWTH----\n",
      "A lawnmower\n",
      "in the darkness of the night\n",
      "dreaming of new settings\n"
     ]
    }
   ],
   "source": [
    "palindrome_poem()"
   ]
  },
  {
   "cell_type": "code",
   "execution_count": 13,
   "metadata": {},
   "outputs": [
    {
     "name": "stdout",
     "output_type": "stream",
     "text": [
      "A goat\n",
      "in the darkness of the night\n",
      "wishing for a hand to hold\n",
      "----FANTASY----\n",
      "A goat\n",
      "in the darkness of the night\n",
      "wishing for a hand to hold\n"
     ]
    }
   ],
   "source": [
    "palindrome_poem()"
   ]
  },
  {
   "cell_type": "code",
   "execution_count": 14,
   "metadata": {},
   "outputs": [
    {
     "name": "stdout",
     "output_type": "stream",
     "text": [
      "A goat\n",
      "in the darkness of the night\n",
      "questioning the validity of past choices\n",
      "----GROWTH----\n",
      "A goat\n",
      "in the darkness of the night\n",
      "questioning the validity of past choices\n"
     ]
    }
   ],
   "source": [
    "palindrome_poem()"
   ]
  },
  {
   "cell_type": "markdown",
   "metadata": {},
   "source": [
    "For a second, I forgot that I had to re-run the updated code again for the changes to take place. Here is the final output of palindrome_poem."
   ]
  },
  {
   "cell_type": "code",
   "execution_count": 15,
   "metadata": {},
   "outputs": [],
   "source": [
    "def palindrome_poem():\n",
    "    randoverse1 = random.choice(verse1)\n",
    "    randoverse2 = random.choice(verse2)\n",
    "    randoverse3 = random.choice(verse3)\n",
    "    \n",
    "    print(randoverse1)\n",
    "    print(randoverse2)\n",
    "    print(randoverse3)\n",
    "    print(random.choice(center))\n",
    "    print(randoverse3)\n",
    "    print(randoverse2)\n",
    "    print(randoverse1)"
   ]
  },
  {
   "cell_type": "code",
   "execution_count": 16,
   "metadata": {},
   "outputs": [
    {
     "name": "stdout",
     "output_type": "stream",
     "text": [
      "A bed\n",
      "soaring among the stars\n",
      "pondering the meaning of life\n",
      "----SOUL----\n",
      "pondering the meaning of life\n",
      "soaring among the stars\n",
      "A bed\n"
     ]
    }
   ],
   "source": [
    "palindrome_poem()"
   ]
  },
  {
   "cell_type": "code",
   "execution_count": 17,
   "metadata": {},
   "outputs": [
    {
     "name": "stdout",
     "output_type": "stream",
     "text": [
      "A goat\n",
      "perched atop the canopy of the jungle\n",
      "dreaming of new settings\n",
      "----ILLUSION----\n",
      "dreaming of new settings\n",
      "perched atop the canopy of the jungle\n",
      "A goat\n"
     ]
    }
   ],
   "source": [
    "palindrome_poem()"
   ]
  },
  {
   "cell_type": "code",
   "execution_count": 18,
   "metadata": {},
   "outputs": [
    {
     "name": "stdout",
     "output_type": "stream",
     "text": [
      "A rock\n",
      "in the darkness of the night\n",
      "pondering the meaning of life\n",
      "----DAYDREAM----\n",
      "pondering the meaning of life\n",
      "in the darkness of the night\n",
      "A rock\n"
     ]
    }
   ],
   "source": [
    "palindrome_poem()"
   ]
  },
  {
   "cell_type": "code",
   "execution_count": null,
   "metadata": {},
   "outputs": [],
   "source": []
  },
  {
   "cell_type": "markdown",
   "metadata": {},
   "source": [
    "While this was a small, simple exercise, I actually really enjoyed the output of my palindrome poem generator, and I thought the poems were quite funny. I was also a bit surprised at how well the poem flows forwards and backwards, as I thought it would be a bit difficult to achieve that effect. However, all of the outputs felt thematically coherent, which was a relief. I intend to add more verses in the future."
   ]
  }
 ],
 "metadata": {
  "kernelspec": {
   "display_name": "Python 3",
   "language": "python",
   "name": "python3"
  },
  "language_info": {
   "codemirror_mode": {
    "name": "ipython",
    "version": 3
   },
   "file_extension": ".py",
   "mimetype": "text/x-python",
   "name": "python",
   "nbconvert_exporter": "python",
   "pygments_lexer": "ipython3",
   "version": "3.8.3"
  }
 },
 "nbformat": 4,
 "nbformat_minor": 4
}
